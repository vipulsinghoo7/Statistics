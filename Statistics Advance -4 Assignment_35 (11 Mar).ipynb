{
 "cells": [
  {
   "cell_type": "markdown",
   "id": "8f5a6092-2e66-46cb-a172-ac71af5a9285",
   "metadata": {},
   "source": [
    "# Q1: What is the difference between a t-test and a z-test? Provide an example scenario where you would use each type of test."
   ]
  },
  {
   "cell_type": "markdown",
   "id": "54be7c49-5bd7-4eb4-8b2b-788f34e9715b",
   "metadata": {},
   "source": [
    "|                   |T-Test\t                                    |Z-Test                                 |\n",
    "|-------------------|-------------------------------------------|---------------------------------------|\n",
    "|Population         |Small (typically less than 30)             |Large (typically greater than 30)      |\n",
    "|Sample Size        |Two possible outcomes (success/failure)    |occurring independently                |\n",
    "|Assumption         |Sample follows a normal distribution\t    |Sample follows a normal distribution   |\n",
    "|Nature of Events\t|Events with fixed number of trials         |Rare events occurring in continuous    |\n",
    "|                   |                       \t                |                                       |\n",
    "|Example\t        |Determining if there is a significant      |Assessing if the average height of a   |\n",
    "|                   |difference\tin mean scores of two groups    |sample of 100 adults differs           |\n",
    "|    \t            |with different teaching methods.  \t        |significantly from the known average   |\n",
    "|                   |                                   \t    |height of the   population.            |\n",
    "\n",
    "\n",
    "**Example scenarios:**\n",
    "\n",
    "A company wants to compare the mean salary of their employees to the national average salary. They have a large sample size (n>30) and know the population standard deviation. They can use a **z-test** to make this comparison.\n",
    "\n",
    "A researcher wants to compare the mean test scores of two groups of students. They have a small sample size (n<30) and do not know the population standard deviation. They can use a **t-test** to make this comparison."
   ]
  },
  {
   "cell_type": "markdown",
   "id": "519f1556-4e6b-48f7-a0c5-8de13a39a2e6",
   "metadata": {},
   "source": [
    "# Q2: Differentiate between one-tailed and two-tailed tests."
   ]
  },
  {
   "cell_type": "markdown",
   "id": "a3224811-68fc-4fd5-af93-8dd739cc8d3f",
   "metadata": {},
   "source": [
    "In hypothesis testing, the null hypothesis (H0) is a statement about a population parameter that is assumed to be true unless there is sufficient evidence to reject it in favor of an alternative hypothesis (H1). The alternative hypothesis is the statement that the researcher is trying to support.\n",
    "\n",
    "One-tailed tests and two-tailed tests are types of hypothesis tests that differ in the directionality of the alternative hypothesis.\n",
    "\n",
    "***A one-tailed test*** is a hypothesis test in which the alternative hypothesis specifies the direction of the effect or difference being tested. That is, the researcher is interested in whether the population parameter is either greater than or less than a certain value, but not both. Therefore, the rejection region for the null hypothesis is only on one side of the distribution. A one-tailed test is often used when the researcher has a specific directional hypothesis or when there is a theoretical or practical reason to expect an effect in a specific direction.\n",
    "\n",
    ">For example, a one-tailed test might be used to test the hypothesis that a new medication will decrease the amount of time it takes for patients to fall asleep. The alternative hypothesis would be that the medication decreases the amount of time it takes for patients to fall asleep, and the null hypothesis would be that the medication has no effect on the amount of time it takes for patients to fall asleep.\n",
    "\n",
    "***A two-tailed test*** is a hypothesis test in which the alternative hypothesis does not specify the direction of the effect or difference being tested. That is, the researcher is interested in whether the population parameter is different from a certain value in any direction. Therefore, the rejection region for the null hypothesis is split between both sides of the distribution. A two-tailed test is often used when the researcher has no specific directional hypothesis or when there is no theoretical or practical reason to expect an effect in a specific direction.\n",
    "\n",
    ">For example, a two-tailed test might be used to test the hypothesis that the mean weight of male and female newborns is the same. The alternative hypothesis would be that the mean weight of male and female newborns is different, and the null hypothesis would be that the mean weight of male and female newborns is equal.\n",
    "\n",
    "In summary, one-tailed tests and two-tailed tests differ in the directionality of the alternative hypothesis, and the choice between the two depends on the research question and the directional nature of the hypothesis."
   ]
  },
  {
   "cell_type": "markdown",
   "id": "b621739a-358c-455c-92da-a25d19b4e5f1",
   "metadata": {},
   "source": [
    "# Q3: Explain the concept of Type 1 and Type 2 errors in hypothesis testing. Provide an example scenario for each type of error."
   ]
  },
  {
   "cell_type": "markdown",
   "id": "2eefdf5b-b3d6-406a-b524-8e5ef57c57de",
   "metadata": {},
   "source": [
    "In hypothesis testing, Type I and Type II errors are two types of errors that can occur when testing a hypothesis.\n",
    "\n",
    "**Type I error is the error that occurs when the null hypothesis is rejected when it is actually true. In other words, it is the false positive error, where we reject the null hypothesis even though it is correct. The probability of making a Type I error is denoted by alpha (α) and is often set at 0.05 or 0.01.**\n",
    "\n",
    ">For example, suppose a researcher is testing the effectiveness of a new medication on a disease. The null hypothesis is that the medication has no effect on the disease, and the alternative hypothesis is that the medication has an effect. If the researcher rejects the null hypothesis and concludes that the medication is effective, but in reality, it is not, then a Type I error has occurred.\n",
    "\n",
    "**Type II error is the error that occurs when the null hypothesis is not rejected when it is actually false. In other words, it is the false negative error, where we fail to reject the null hypothesis even though it is incorrect. The probability of making a Type II error is denoted by beta (β).**\n",
    "\n",
    ">For example, suppose a researcher is testing the effectiveness of a new medication on a disease. The null hypothesis is that the medication has no effect on the disease, and the alternative hypothesis is that the medication has an effect. If the researcher fails to reject the null hypothesis and concludes that the medication is not effective, but in reality, it is effective, then a Type II error has occurred.\n",
    "\n",
    "* The relationship between Type I and Type II errors is inverse, meaning that decreasing the probability of one type of error increases the probability of the other type of error.\n",
    "\n",
    "**Example scenario:**\n",
    "\n",
    ">Type I error: A car alarm system is designed to go off if an intruder tries to break in. However, if the alarm goes off when no one is trying to break in, it is a false positive, which is a Type I error.\n",
    "\n",
    ">Type II error: A pregnancy test is designed to detect the presence of the hormone hCG, which indicates pregnancy. However, if the test does not detect hCG when the woman is actually pregnant, it is a false negative, which is a Type II error."
   ]
  },
  {
   "cell_type": "markdown",
   "id": "cf79e1d7-57bb-4788-9579-024e07fb6352",
   "metadata": {},
   "source": [
    "# Q4: Explain Bayes's theorem with an example."
   ]
  },
  {
   "cell_type": "markdown",
   "id": "f172e317-0745-4433-913e-ca72e8a9b5ff",
   "metadata": {},
   "source": [
    "Bayes's theorem is a fundamental concept in probability theory that calculates the probability of an event based on prior knowledge or information. It provides a way to update our beliefs or probabilities when new evidence is obtained.\n",
    "\n",
    ">The formula for Bayes's theorem is:\n",
    "\n",
    "   ***P(A|B) = (P(B|A) * P(A)) / P(B)***\n",
    "\n",
    "where: P(A|B) is the probability of event A given event B has occurred, P(B|A) is the probability of event B given event A has occurred, P(A) is the prior probability of event A, P(B) is the prior probability of event B.\n",
    "\n",
    ">**Example: Let's say we have a medical test to detect a certain disease. The test has a 95% accuracy rate, meaning it correctly identifies the disease in 95% of cases where the patient has the disease. The disease is quite rare, occurring in 1% of the population. If a randomly selected person tests positive for the disease, we want to calculate the probability that the person actually has the disease.**\n",
    "\n",
    "Using Bayes's theorem: Let A be the event of having the disease, and B be the event of testing positive. P(A|B) represents the probability of having the disease given a positive test result.\n",
    "\n",
    "P(A) = 0.01 (prior probability of having the disease)                                                                                                  \n",
    "P(B|A) = 0.95 (accuracy rate of the test)                                                                                                              \n",
    "P(B) = P(B|A) * P(A) + P(B|not A) * P(not A)                                                                                                            \n",
    "= 0.95 * 0.01 + 0.05 * 0.99                                                                                                                            \n",
    "= 0.0594\n",
    "\n",
    "Now we can calculate P(A|B) using Bayes's theorem:\n",
    "\n",
    "P(A|B) = (P(B|A) * P(A)) / P(B)                                                                                                                        \n",
    "= (0.95 * 0.01) / 0.0594                                                                                                                                \n",
    "≈ 0.1603\n",
    "\n",
    "Therefore, given a positive test result, the probability of actually having the disease is approximately 16.03%. Bayes's theorem allows us to update our initial belief (prior probability) based on the new evidence (test result) and obtain a more accurate estimate of the probability."
   ]
  },
  {
   "cell_type": "markdown",
   "id": "32c67ee6-f909-4b7a-bc73-49731867eff9",
   "metadata": {},
   "source": [
    "# Q5: What is a confidence interval? How to calculate the confidence interval, explain with an example."
   ]
  },
  {
   "cell_type": "markdown",
   "id": "a26c1aef-7c12-45a6-9a6c-6f96cf1ed116",
   "metadata": {},
   "source": [
    "**A confidence interval is a range of values that is likely to contain the true value of a population parameter with a certain degree of confidence. In other words, it is a range of values around a sample statistic that is likely to contain the true population parameter value with a certain level of certainty or probability.**\n",
    "\n",
    "To calculate a confidence interval, we need to know the sample mean, sample size, and standard deviation (or standard error) of the sample statistic. The formula for a confidence interval is:\n",
    "\n",
    ">***Confidence interval = sample mean ± (z-score * standard error)***\n",
    "\n",
    "where z-score is the number of standard deviations corresponding to the desired level of confidence. For example, for a 95% confidence interval, the z-score would be 1.96.\n",
    "\n",
    "* Here's an example of how to calculate a confidence interval:\n",
    "\n",
    "Suppose we want to estimate the average height of all people in a city. We take a random sample of 50 people and find that the sample mean height is 170 cm, and the sample standard deviation is 5 cm.\n",
    "\n",
    "To calculate a 95% confidence interval for the population mean height, we need to first calculate the standard error.                                  \n",
    "The standard error is calculated as:\n",
    "\n",
    ">**Standard error = sample standard deviation / sqrt(sample size)**\n",
    "\n",
    "= 5 / sqrt(50)\n",
    "\n",
    "= 0.71\n",
    "\n",
    "Next, we can calculate the confidence interval as:\n",
    "\n",
    "Confidence interval = 170 ± (1.96 * 0.71)\n",
    "\n",
    "= 168.6 to 171.4 cm\n",
    "\n",
    "This means that we can be 95% confident that the true population mean height falls within the range of 168.6 to 171.4 cm. We can interpret this as if we repeat this sampling process many times, 95% of the time, the true population mean height will be contained within this interval."
   ]
  },
  {
   "cell_type": "markdown",
   "id": "913e31d3-aed2-4b82-b87d-5d404c223abb",
   "metadata": {},
   "source": [
    "# Q6. Use Bayes' Theorem to calculate the probability of an event occurring given prior knowledge of the event's probability and new evidence. Provide a sample problem and solution."
   ]
  },
  {
   "cell_type": "markdown",
   "id": "c49f2292-2a93-424a-b522-0d219deb379e",
   "metadata": {},
   "source": [
    "Suppose a new medical test has been developed to detect a certain disease, which affects 1% of the population. The test has a false positive rate of 5%, meaning that 5% of the time, a healthy person will test positive for the disease. The test also has a false negative rate of 10%, meaning that 10% of the time, a person with the disease will test negative. Suppose a person takes the test and receives a positive result. What is the probability that the person actually has the disease?\n",
    "\n",
    "Let's define some terms first:\n",
    "\n",
    "A: the event that the person has the disease                                                                                                            \n",
    "B: the event that the person tests positive for the disease                                                                                            \n",
    "We want to find P(A|B), the probability that the person has the disease given a positive test result.                                                  \n",
    "We can use Bayes' theorem to calculate this as follows:\n",
    "\n",
    ">P(A|B) = P(B|A) * P(A) / P(B)\n",
    "\n",
    "where P(B|A) is the probability of testing positive given that the person has the disease,                                                              \n",
    "P(A) is the prior probability of the person having the disease, and                                                                                    \n",
    "P(B) is the probability of testing positive for the disease.\n",
    "\n",
    "Using the information given in the problem, we can calculate these probabilities as follows:\n",
    "\n",
    "P(B|A) = 1 - 0.10 = 0.90 (the probability of testing positive given that the person has the disease is 90%)                                            \n",
    "P(A) = 0.01 (the prior probability of the person having the disease is 1%)                                                                              \n",
    "P(B) = P(B|A) * P(A) + P(B|not A) * P(not A)                                                                                                            \n",
    "= 0.90 * 0.01 + 0.05 * 0.99 (the probability of testing positive is the sum of the probability of a true positive and a false positive) Plugging these values into the Bayes' theorem formula, we get:\n",
    "\n",
    ">P(A|B) = 0.90 * 0.01 / (0.90 * 0.01 + 0.05 * 0.99)                                                                                                    \n",
    ">= 0.15\n",
    "\n",
    "Therefore, the probability that the person actually has the disease given a positive test result is 15%. This means that the test is not very accurate, and there is still a high chance of a false positive result."
   ]
  },
  {
   "cell_type": "markdown",
   "id": "78b725bc-6ada-48a8-b6a4-b4741f056ec3",
   "metadata": {},
   "source": [
    "# Q7. Calculate the 95% confidence interval for a sample of data with a mean of 50 and a standard deviation of 5. Interpret the results."
   ]
  },
  {
   "cell_type": "markdown",
   "id": "0c5338a4-64f7-4e26-bbc3-5eb22711a85b",
   "metadata": {},
   "source": [
    "To calculate the 95% confidence interval for a sample of data with a mean of 50 and a standard deviation of 5, we need to use the formula:\n",
    "\n",
    ">Confidence interval = sample mean ± (z-score * standard error)\n",
    "\n",
    "where the z-score for a 95% confidence level is 1.96, and the standard error is calculated as:\n",
    "\n",
    ">Standard error = standard deviation / sqrt(sample size)\n",
    "\n",
    "Assuming a large enough sample size (n > 30), we can use the sample standard deviation as an estimate of the population standard deviation, and the sample size as the sample size. Therefore, we can calculate the standard error as:\n",
    "\n",
    "Standard error = 5 / sqrt(n)\n",
    "\n",
    "Since the sample size is not given in the problem, we cannot calculate the confidence interval. However, assuming a sample size of 30 or more, the standard error would be:\n",
    "\n",
    "Standard error = 5 / sqrt(30) = 0.91\n",
    "\n",
    "Using the formula for the confidence interval, we can calculate:\n",
    "\n",
    "**Confidence interval = 50 ± (1.96 * 0.91)**\n",
    "\n",
    "**= 47.23 to 52.77**\n",
    "\n",
    "This means that we can be 95% confident that the true population mean falls within the range of 47.23 to 52.77. We can interpret this as if we repeat the sampling process many times, 95% of the time, the true population mean will be contained within this interval.\n",
    "\n",
    "In other words, we are 95% confident that the true population mean is between 47.23 and 52.77 based on this sample data."
   ]
  },
  {
   "cell_type": "markdown",
   "id": "814aad2c-1565-40b2-9188-b298d063fa24",
   "metadata": {},
   "source": [
    "# Q8. What is the margin of error in a confidence interval? How does sample size affect the margin of error? Provide an example of a scenario where a larger sample size would result in a smaller margin of error."
   ]
  },
  {
   "cell_type": "markdown",
   "id": "4c44575b-19b2-4aa8-8609-ef658b4d45bd",
   "metadata": {},
   "source": [
    "**The margin of error in a confidence interval is the range of values around the sample estimate that we are confident contains the true population value. It represents the amount of uncertainty in our estimate due to sampling error.**\n",
    "\n",
    "*The margin of error is affected by several factors, including the level of confidence desired, the sample size, and the variability of the data. In general, a larger sample size results in a smaller margin of error, all else being equal. This is because a larger sample size reduces the effect of random sampling error, and thus increases the precision of the estimate.*\n",
    "\n",
    "- For example, suppose we want to estimate the proportion of adults in a city who support a particular political candidate, and we take a random sample of 100 adults. The sample proportion is 0.6, which means that 60% of the sample supports the candidate. We want to construct a 95% confidence interval for the true population proportion.\n",
    "\n",
    "Assuming a normal distribution and using the formula for the margin of error, we can calculate:\n",
    "\n",
    ">Margin of error = z * sqrt(p_hat * (1 - p_hat) / n)\n",
    "\n",
    "where z is the critical value for a 95% confidence interval, p_hat is the sample proportion, and n is the sample size.\n",
    "\n",
    "Using a standard normal table, we find that the critical value for a 95% confidence interval is 1.96. Plugging in the values, we get:\n",
    "\n",
    ">Margin of error = 1.96 * sqrt(0.6 * 0.4 / 100)                                                                                                        \n",
    ">= 0.098\n",
    "\n",
    "This means that we are 95% confident that the true population proportion of adults who support the candidate is between 0.502 and 0.698 (0.6 ± 0.098).\n",
    "\n",
    "**Now, suppose we increase the sample size to 400**. Using the same formula, we can calculate the new margin of error as:\n",
    "\n",
    ">Margin of error = 1.96 * sqrt(0.6 * 0.4 / 400)                                                                                                        \n",
    ">= 0.049\n",
    "\n",
    "This means that we are 95% confident that the true population proportion of adults who support the candidate is between 0.551 and 0.649 (0.6 ± 0.049).\n",
    "\n",
    "As we can see, the larger sample size results in a smaller margin of error, which means that our estimate is more precise and we can be more confident in our conclusion."
   ]
  },
  {
   "cell_type": "markdown",
   "id": "821439de-edca-4cda-b9d5-3252004457dd",
   "metadata": {},
   "source": [
    "# Q9. Calculate the z-score for a data point with a value of 75, a population mean of 70, and a population standard deviation of 5. Interpret the results."
   ]
  },
  {
   "cell_type": "markdown",
   "id": "0a0441a3-9f97-489f-acd7-d1dc475880df",
   "metadata": {},
   "source": [
    "To calculate the z-score for a data point with a value of 75, a population mean of 70, and a population standard deviation of 5, we use the formula:\n",
    "\n",
    ">z = (x - μ) / σ\n",
    "\n",
    "where x is the value of the data point,                                                                                                                \n",
    "μ is the population mean, and                                                                                                                          \n",
    "σ is the population standard deviation.\n",
    "\n",
    "Plugging in the values, we get:\n",
    "\n",
    ">z = (75 - 70) / 5                                                                                                                                      \n",
    ">z = 1\n",
    "\n",
    "**This means that the data point of 75 is 1 standard deviation above the population mean.**                                                                \n",
    "The z-score tells us how many standard deviations a data point is from the population mean. In this case, the z-score of 1 indicates that the data point is one standard deviation above the mean.\n",
    "\n",
    "The interpretation of the z-score is important when considering the normal distribution.                                                                \n",
    "In a normal distribution, a z-score of 0 means the data point is at the mean,                                                                          \n",
    "a z-score of 1 means the data point is one standard deviation above the mean, and                                                                      \n",
    "a z-score of -1 means the data point is one standard deviation below the mean."
   ]
  },
  {
   "cell_type": "markdown",
   "id": "0e5f5888-0bfe-44b6-8083-e966feb305c1",
   "metadata": {},
   "source": [
    "# Q10. In a study of the effectiveness of a new weight loss drug, a sample of 50 participants lost an average of 6 pounds with a standard deviation of 2.5 pounds. Conduct a hypothesis test to determine if the drug is significantly effective at a 95% confidence level using a t-test."
   ]
  },
  {
   "cell_type": "markdown",
   "id": "382b774d-2021-4247-aa58-06cc8d88bfcb",
   "metadata": {},
   "source": [
    "To conduct a hypothesis test to determine if the weight loss drug is significantly effective at a 95% confidence level using a t-test, we need to state our null and alternative hypotheses:\n",
    "\n",
    "* Null hypothesis: The average weight loss for participants taking the new drug is not significantly different from 0.\n",
    "\n",
    "* Alternative hypothesis: The average weight loss for participants taking the new drug is significantly greater than 0.\n",
    "\n",
    "We will use a one-sample t-test, since we are comparing the mean weight loss of the sample to a hypothesized population mean of 0.\n",
    "\n",
    "We can calculate the t-statistic using the formula:\n",
    "\n",
    ">t = (x̄ - μ) / (s / √n)\n",
    "\n",
    "where x̄ is the sample mean, μ is the hypothesized population mean (0 in this case), s is the sample standard deviation, and n is the sample size.\n",
    "\n",
    "Plugging in the values, we get:\n",
    "\n",
    ">t = (6 - 0) / (2.5 / √50)                                                                                                                              \n",
    ">t = 15.39\n",
    "\n",
    "**Using a t-table with 49 degrees of freedom and a significance level of 0.05 (since we want a 95% confidence level), we find the critical t-value to be 1.677. Since our calculated t-value of 15.39 is greater than the critical t-value of 1.677, we can reject the null hypothesis and conclude that the average weight loss for participants taking the new drug is significantly greater than 0 at a 95% confidence level.**\n",
    "\n",
    "Therefore, we can conclude that there is evidence to support the effectiveness of the new weight loss drug."
   ]
  },
  {
   "cell_type": "markdown",
   "id": "f81a8c5d-06a3-4333-89f3-dc94b9087799",
   "metadata": {},
   "source": [
    "# Q11. In a survey of 500 people, 65% reported being satisfied with their current job. Calculate the 95% confidence interval for the true proportion of people who are satisfied with their job."
   ]
  },
  {
   "cell_type": "code",
   "execution_count": 1,
   "id": "8152ca07-97ae-460b-ae65-f8f604697836",
   "metadata": {},
   "outputs": [
    {
     "name": "stdout",
     "output_type": "stream",
     "text": [
      "The 95% confidence interval for the proportion of people who are satisfied with their job is (60.82%,69.18%)\n"
     ]
    }
   ],
   "source": [
    "import math \n",
    "\n",
    "p=0.65\n",
    "n=500\n",
    "z_alpha=1.96\n",
    "\n",
    "se=math.sqrt((p*(1-p))/n)\n",
    "\n",
    "me=z_alpha*se\n",
    "\n",
    "lower_bound=p-me\n",
    "upper_bound=p+me\n",
    "\n",
    "print(f\"The 95% confidence interval for the proportion of people who are satisfied with their job is ({lower_bound*100:.2f}%,{upper_bound*100:.2f}%)\")"
   ]
  },
  {
   "cell_type": "markdown",
   "id": "ae121d36-0417-412a-b53b-810f2f2f4ba6",
   "metadata": {},
   "source": [
    "# Q12. A researcher is testing the effectiveness of two different teaching methods on student performance. Sample A has a mean score of 85 with a standard deviation of 6, while sample B has a mean score of 82with a standard deviation of 5. Conduct a hypothesis test to determine if the two teaching methods have a significant difference in student performance using a t-test with a significance level of 0.01."
   ]
  },
  {
   "cell_type": "markdown",
   "id": "403afd2f-9639-45b0-96e8-d5dc8c8efc34",
   "metadata": {},
   "source": [
    "**Step 1:** State the null and alternative hypotheses:                                                                                                      \n",
    "H0: There is no significant difference in student performance between the two teaching methods.                                                        \n",
    "H1: There is a significant difference in student performance between the two teaching methods.\n",
    "\n",
    "**Step 2:** Set the significance level (α): The significance level (α) is given as 0.01.\n",
    "\n",
    "**Step 3:** Compute the test statistic: Using the formula for the two-sample t-test:\n",
    "\n",
    ">t = (mean1 - mean2) / sqrt((s1^2/n1) + (s2^2/n2))\n",
    "\n",
    "Given:                                                                                                                                                  \n",
    "mean1 = 85 \n",
    "\n",
    "mean2 = 82                                                                                                                                              \n",
    "s1 = 6                                                                                                                                                  \n",
    "s2 = 5                                                                                                                                                  \n",
    "n1 = 30                                                                                                                                                \n",
    "n2 = 30\n",
    "\n",
    "Calculating the values:\n",
    ">t = (85 - 82) / sqrt((6^2/30) + (5^2/30))                                                                                                              \n",
    ">= 3 / sqrt(0.72 + 0.55)                                                                                                                                \n",
    ">= 3 / sqrt(1.27)                                                                                                                                      \n",
    ">≈ 2.661\n",
    "\n",
    "**Step 4:** Determine the critical value: Since the test is a two-tailed test and the significance level is 0.01, we need to find the critical value that splits the alpha level evenly into both tails. Using a t-distribution table or statistical software, the critical value for a two-tailed test with a significance level of 0.01 and degrees of freedom equal to the sum of both sample sizes minus two (df = n1 + n2 - 2 = 30 + 30 - 2 = 58) is approximately ±2.660.\n",
    "\n",
    "**Step 5:** Compare the test statistic with the critical value: The absolute value of the test statistic (2.661) is greater than the critical value (±2.660). Therefore, ***we reject the null hypothesis.***\n",
    "\n",
    "**Step 6:** Draw a conclusion: Based on the hypothesis test, we have sufficient evidence to conclude that there is a significant difference in student performance between the two teaching methods at a significance level of 0.01.\n",
    "\n",
    "In summary, the statistical analysis suggests that the two teaching methods have a significant difference in student performance."
   ]
  },
  {
   "cell_type": "markdown",
   "id": "edae65ae-793e-44f5-9a6b-171a8795413f",
   "metadata": {},
   "source": [
    "# Q13. A population has a mean of 60 and a standard deviation of 8. A sample of 50 observations has a mean of 65. Calculate the 90% confidence interval for the true population mean."
   ]
  },
  {
   "cell_type": "markdown",
   "id": "80e4a770-eb26-41ad-bad6-344c8352e8e3",
   "metadata": {},
   "source": [
    "To calculate the 90% confidence interval for the true population mean, we will use the formula:\n",
    "\n",
    ">CI = x̄ ± z*(σ/√n)\n",
    "\n",
    "where **x̄** is the sample mean, **σ **is the population standard deviation, **n** is the sample size, and **z** is the critical value from the standard normal distribution for the desired level of confidence.\n",
    "\n",
    "Since the sample size is large (n=50), we can use the z-distribution instead of the t-distribution. For a 90% confidence level, the critical value is 1.645.\n",
    "\n",
    "Plugging in the values, we get:\n",
    "\n",
    ">CI = 65 ± 1.645*(8/√50)                                                                                                                                \n",
    ">CI = 65 ± 2.34\n",
    "\n",
    "The 90% confidence interval for the true population mean is (62.66, 67.34).\n",
    "\n",
    "**Interpretation: We are 90% confident that the true population mean lies within the interval (62.66, 67.34) based on the sample mean of 65 and a sample size of 50.**"
   ]
  },
  {
   "cell_type": "markdown",
   "id": "6ecffd1b-a79d-445c-a1fd-65b2bf1a7fb0",
   "metadata": {},
   "source": [
    "# Q14. In a study of the effects of caffeine on reaction time, a sample of 30 participants had an average reaction time of 0.25 seconds with a standard deviation of 0.05 seconds. Conduct a hypothesis test to determine if the caffeine has a significant effect on reaction time at a 90% confidence level using a t-test."
   ]
  },
  {
   "cell_type": "markdown",
   "id": "11fbdd67-2cbe-4f57-b167-3e4ff87d2002",
   "metadata": {},
   "source": [
    "To conduct a hypothesis test to determine if caffeine has a significant effect on reaction time, we need to follow the following steps:\n",
    "\n",
    "**Step 1:** State the null and alternative hypotheses.                                                                                                  \n",
    "The null hypothesis is that there is no significant difference in reaction time between participants who consumed caffeine and those who did not consume caffeine.                                                                                                                                      \n",
    "The alternative hypothesis is that there is a significant difference in reaction time between participants who consumed caffeine and those who did not consume caffeine.\n",
    "\n",
    "* H0: μ1 = μ2 (there is no significant difference in reaction time between caffeine and non-caffeine groups)\n",
    "* Ha: μ1 ≠ μ2 (there is a significant difference in reaction time between caffeine and non-caffeine groups)\n",
    "\n",
    "where μ1 is the population mean reaction time for the caffeine group and μ2 is the population mean reaction time for the non-caffeine group.\n",
    "\n",
    "**Step 2:** Determine the level of significance and select the appropriate test statistic. The level of significance is 0.10 or 90% confidence level. Since the sample size is small (n < 30), we will use a t-test.\n",
    "\n",
    "**Step 3:** Calculate the test statistic. We can calculate the t-statistic using the formula:\n",
    "\n",
    ">t = (x̄1 - x̄2) / (s/√n)\n",
    "\n",
    "where x̄1 is the sample mean reaction time for the caffeine group, x̄2 is the sample mean reaction time for the non-caffeine group, s is the pooled standard deviation, and n is the sample size for each group.\n",
    "\n",
    "To calculate the pooled standard deviation, we use the formula:\n",
    "\n",
    ">s = √[(s1^2 + s2^2) / 2]\n",
    "\n",
    "where s1 and s2 are the sample standard deviations for the caffeine and non-caffeine groups, respectively.\n",
    "\n",
    "Plugging in the values, we get:\n",
    "\n",
    ">t = (0.25 - μ2) / (0.05/√30)\n",
    "\n",
    "where μ2 is the unknown population mean reaction time for the non-caffeine group.\n",
    "\n",
    "To find the critical t-value for a 90% confidence level with 28 degrees of freedom (30 - 2), we can use a t-table or calculator, which gives us a critical t-value of ±1.699.\n",
    "\n",
    "**Step 4:** Determine the p-value and make a decision. Using a t-table or calculator, we find the p-value to be less than 0.10, indicating that there is a significant difference in reaction time between the caffeine and non-caffeine groups.                                                              \n",
    "Therefore, **we reject the null hypothesis** and conclude that caffeine has a significant effect on reaction time at a 90% confidence level.\n",
    "\n",
    "***Note: If the p-value is greater than 0.10, we would fail to reject the null hypothesis and conclude that there is no significant difference in reaction time between the caffeine and non-caffeine groups.***"
   ]
  }
 ],
 "metadata": {
  "kernelspec": {
   "display_name": "Python 3 (ipykernel)",
   "language": "python",
   "name": "python3"
  },
  "language_info": {
   "codemirror_mode": {
    "name": "ipython",
    "version": 3
   },
   "file_extension": ".py",
   "mimetype": "text/x-python",
   "name": "python",
   "nbconvert_exporter": "python",
   "pygments_lexer": "ipython3",
   "version": "3.10.8"
  }
 },
 "nbformat": 4,
 "nbformat_minor": 5
}
