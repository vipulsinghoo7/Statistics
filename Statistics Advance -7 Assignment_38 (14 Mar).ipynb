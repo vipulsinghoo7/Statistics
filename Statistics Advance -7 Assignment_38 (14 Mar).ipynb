{
 "cells": [
  {
   "cell_type": "markdown",
   "id": "889b384a-54e7-48e6-9e47-8b0d4473c27f",
   "metadata": {},
   "source": [
    "# Q1. Write a Python function that takes in two arrays of data and calculates the F-value for a variance ratiotest. The function should return the F-value and the corresponding p-value for the test."
   ]
  },
  {
   "cell_type": "code",
   "execution_count": 2,
   "id": "22ea1c99-2e83-4f7b-b26a-c30ea9873186",
   "metadata": {},
   "outputs": [
    {
     "name": "stdout",
     "output_type": "stream",
     "text": [
      "1.0\n",
      "0.5\n"
     ]
    }
   ],
   "source": [
    "import numpy as np\n",
    "from scipy.stats import f \n",
    "\n",
    "def variance_ratio_test(data1,data2):\n",
    "    var1=np.var(data1,ddof=1)\n",
    "    var2=np.var(data2,ddof=1)\n",
    "    \n",
    "    f_value=var1/var2\n",
    "    \n",
    "    df1=len(data1)-1\n",
    "    df2=len(data2)-1\n",
    "    \n",
    "    p_value=f.sf(f_value,df1,df2)\n",
    "    \n",
    "    return f_value , p_value \n",
    "data1 = [1, 2, 3, 4, 5]\n",
    "data2 = [6, 7, 8, 9, 10]\n",
    "f_value , p_value=variance_ratio_test(data1,data2)\n",
    "\n",
    "print(f_value)\n",
    "print(p_value)"
   ]
  },
  {
   "cell_type": "markdown",
   "id": "18906040-e785-4fe8-b987-9f209d755268",
   "metadata": {
    "tags": []
   },
   "source": [
    "# Q2. Given a significance level of 0.05 and the degrees of freedom for the numerator and denominator of an F-distribution, write a Python function that returns the critical F-value for a two-tailed test."
   ]
  },
  {
   "cell_type": "code",
   "execution_count": 5,
   "id": "286de1e2-f130-4be5-b35a-c4c6b513bf65",
   "metadata": {},
   "outputs": [
    {
     "name": "stdout",
     "output_type": "stream",
     "text": [
      "Critical F-value: 4.0768\n"
     ]
    }
   ],
   "source": [
    "from scipy.stats import f\n",
    "def critical_f_value(dfn,dfd, alpha=0.05):\n",
    "    f_crit = f.ppf(1-alpha/2, dfn, dfd)\n",
    "    return f_crit\n",
    "dfn = 3\n",
    "dfd = 16\n",
    "alpha = 0.05\n",
    "f_crit = critical_f_value(dfn, dfd, alpha)\n",
    "print(f\"Critical F-value: {f_crit:.4f}\")"
   ]
  },
  {
   "cell_type": "markdown",
   "id": "5cd9c6ad-1cc7-47f5-ba56-aa1e05205fd8",
   "metadata": {},
   "source": [
    "# Q3. Write a Python program that generates random samples from two normal distributions with known variances and uses an F-test to determine if the variances are equal. The program should output the F-value, degrees of freedom, and p-value for the test."
   ]
  },
  {
   "cell_type": "code",
   "execution_count": 9,
   "id": "9577dc7f-118c-4c8a-98c6-c904acc02082",
   "metadata": {},
   "outputs": [
    {
     "name": "stdout",
     "output_type": "stream",
     "text": [
      "f value 1.0\n",
      "degress of freedom (num,den:) 19 19\n",
      "p value  0.5000000000000002\n"
     ]
    }
   ],
   "source": [
    "def f_test_equal_variances(sample1,sample2):\n",
    "    var1=np.var(sample1,ddof=1)\n",
    "    var2=np.var(sample2,ddof=1)\n",
    "    \n",
    "    \n",
    "    n1=len(sample1)\n",
    "    n2=len(sample2)\n",
    "    dfn=n1-1\n",
    "    dfd=n2-1\n",
    "    \n",
    "    p_value=f.cdf(f_value,dfn,dfd)\n",
    "    \n",
    "    return f_value , dfn , dfd , p_value \n",
    "\n",
    "\n",
    "\n",
    "np.random.seed(123)\n",
    "\n",
    "\n",
    "sample1=np.random.normal(loc=10,scale=2,size=20)\n",
    "\n",
    "sample2=np.random.normal(loc=10 , scale=3, size=20)\n",
    "\n",
    "f_value , dfn , dfd , p_value = f_test_equal_variances(sample1,sample2)\n",
    "\n",
    "print('f value'  ,f_value)\n",
    "print('degress of freedom (num,den:)',dfn , dfd)\n",
    "\n",
    "print('p value ' , p_value)"
   ]
  },
  {
   "cell_type": "markdown",
   "id": "edda199c-2e46-4f6c-ba9f-bd00d1c66630",
   "metadata": {},
   "source": [
    "# Q4.The variances of two populations are known to be 10 and 15. A sample of 12 observations is taken from each population. Conduct an F-test at the 5% significance level to determine if the variances arecsignificantly different."
   ]
  },
  {
   "cell_type": "code",
   "execution_count": 10,
   "id": "ccf2eed9-df00-4528-9d0b-25334f8171dd",
   "metadata": {},
   "outputs": [
    {
     "name": "stdout",
     "output_type": "stream",
     "text": [
      "There is no significant difference between the variances.\n"
     ]
    }
   ],
   "source": [
    "import numpy as np\n",
    "from scipy.stats import f\n",
    "n1 = 12\n",
    "n2 = 12\n",
    "var1 = 10\n",
    "var2 = 15\n",
    "f_stat = var1 / var2\n",
    "p_val = f.cdf(f_stat, n1 - 1, n2 - 1)\n",
    "alpha = 0.05\n",
    "if p_val < alpha / 2 or p_val > 1 - alpha / 2:\n",
    "    print(\"The variances are significantly different.\")\n",
    "else:\n",
    "    print(\"There is no significant difference between the variances.\")"
   ]
  },
  {
   "cell_type": "markdown",
   "id": "4052a3b6-8221-4feb-bb9f-ffadadcf76de",
   "metadata": {},
   "source": [
    "# Q5. A manufacturer claims that the variance of the diameter of a certain product is 0.005. A sample of 25 products is taken, and the sample variance is found to be 0.006. Conduct an F-test at the 1% significance level to determine if the claim is justified."
   ]
  },
  {
   "cell_type": "code",
   "execution_count": 11,
   "id": "085012f6-401c-494b-8b98-790171257bde",
   "metadata": {},
   "outputs": [
    {
     "name": "stdout",
     "output_type": "stream",
     "text": [
      "fail to reject the null hypothesis . The claim about the variance is justified\n"
     ]
    }
   ],
   "source": [
    "import scipy.stats as stats\n",
    "\n",
    "sample_variance=0.006\n",
    "claimed_variance=0.005\n",
    "\n",
    "sample_size=25\n",
    "\n",
    "f_value=sample_variance / claimed_variance\n",
    "\n",
    "dfn=sample_size-1\n",
    "\n",
    "dfd=float('inf')\n",
    "\n",
    "p_value=1-stats.f.cdf(f_value,dfn,dfd)\n",
    "\n",
    "\n",
    "alpha=0.01\n",
    "if p_value<alpha :\n",
    "    print(\"reject the null hypothesis . The claim about the variance is not justified\")\n",
    "    \n",
    "else :\n",
    "    print(\"fail to reject the null hypothesis . The claim about the variance is justified\")"
   ]
  },
  {
   "cell_type": "markdown",
   "id": "e60b2521-a378-41a4-810c-b19b89471416",
   "metadata": {},
   "source": [
    "# Q6. Write a Python function that takes in the degrees of freedom for the numerator and denominator of an F-distribution and calculates the mean and variance of the distribution. The function should return the mean and variance as a tuple."
   ]
  },
  {
   "cell_type": "code",
   "execution_count": 12,
   "id": "138dcb4a-cbdb-4a11-b12a-d70f4e72632b",
   "metadata": {},
   "outputs": [
    {
     "name": "stdout",
     "output_type": "stream",
     "text": [
      "1.25\n",
      "1.3541666666666667\n"
     ]
    }
   ],
   "source": [
    "def calculate_fdistribution_parameters(dfn,dfd):\n",
    "    mean=dfd/(dfd-2)\n",
    "    variance=(2*(dfd**2)*(dfn+dfd-2))/(dfn*(dfd-2)**2*(dfd-4))\n",
    "    return mean , variance\n",
    "\n",
    "dfn=5\n",
    "dfd=10\n",
    "mean , variance = calculate_fdistribution_parameters(dfn,dfd)\n",
    "print(mean)\n",
    "print(variance)"
   ]
  },
  {
   "cell_type": "markdown",
   "id": "e6f063a2-e951-4425-b21e-643982c4e1fb",
   "metadata": {},
   "source": [
    "# Q7. A random sample of 10 measurements is taken from a normal population with unknown variance. The sample variance is found to be 25. Another random sample of 15 measurements is taken from another normal population with unknown variance, and the sample variance is found to be 20. Conduct an F-test at the 10% significance level to determine if the variances are significantly different."
   ]
  },
  {
   "cell_type": "code",
   "execution_count": 13,
   "id": "a13680ec-98f1-4f6e-9a50-e738d935a033",
   "metadata": {},
   "outputs": [
    {
     "name": "stdout",
     "output_type": "stream",
     "text": [
      "The variances are not significantly different.\n"
     ]
    }
   ],
   "source": [
    "from scipy.stats import f\n",
    "n1 = 10\n",
    "n2 = 15\n",
    "s1_sq = 25\n",
    "s2_sq = 20\n",
    "f_stat = s1_sq / s2_sq\n",
    "p_val = f.cdf(f_stat, n1 - 1, n2 - 1)\n",
    "alpha = 0.1\n",
    "if p_val < alpha:\n",
    "    print(\"The variances are significantly different.\")\n",
    "else:\n",
    "    print(\"The variances are not significantly different.\")"
   ]
  },
  {
   "cell_type": "markdown",
   "id": "ac431548-27ab-4cce-967b-86b28e550950",
   "metadata": {},
   "source": [
    "# Q8. The following data represent the waiting times in minutes at two different restaurants on a Saturday night: Restaurant A: 24, 25, 28, 23, 22, 20, 27; Restaurant B: 31, 33, 35, 30, 32, 36. Conduct an F-test at the 5% significance level to determine if the variances are significantly different."
   ]
  },
  {
   "cell_type": "code",
   "execution_count": 14,
   "id": "0c0f2c55-0b50-409e-94e3-d3264cc4156e",
   "metadata": {},
   "outputs": [
    {
     "name": "stdout",
     "output_type": "stream",
     "text": [
      "fail to reject the null hypothesis. There is no significant difference in the variances\n"
     ]
    }
   ],
   "source": [
    "import numpy as np \n",
    "from scipy.stats import f \n",
    "\n",
    "waiting_times_a=np.array([24, 25, 28, 23, 22, 20, 27])\n",
    "\n",
    "variance_a=np.var(waiting_times_a,ddof=1)\n",
    "\n",
    "waiting_times_b=np.array([31, 33, 35, 30, 32, 36])\n",
    "variance_b=np.var(waiting_times_b , ddof=1)\n",
    "\n",
    "n1=len(waiting_times_a)\n",
    "n2=len(waiting_times_b)\n",
    "\n",
    "df1=n1-1\n",
    "df2=n2-1\n",
    "\n",
    "\n",
    "F=variance_a/variance_b\n",
    "\n",
    "p_value=1-f.cdf(F,df1,df2)\n",
    "\n",
    "alpha=0.05\n",
    "\n",
    "if p_value<alpha:\n",
    "    print(\"reject the null hypothesis . The variances are significantly different\")\n",
    "    \n",
    "else :\n",
    "    print(\"fail to reject the null hypothesis. There is no significant difference in the variances\")"
   ]
  },
  {
   "cell_type": "markdown",
   "id": "8ea08906-4354-469e-98a7-fd812440721f",
   "metadata": {},
   "source": [
    "# Q9. The following data represent the test scores of two groups of students: Group A: 80, 85, 90, 92, 87, 83; Group B: 75, 78, 82, 79, 81, 84. Conduct an F-test at the 1% significance level to determine if the variances are significantly different."
   ]
  },
  {
   "cell_type": "code",
   "execution_count": 15,
   "id": "2648bb77-dedb-4edf-b903-f5e5e47d5147",
   "metadata": {},
   "outputs": [
    {
     "name": "stdout",
     "output_type": "stream",
     "text": [
      "The variances are not significantly different (fail to reject null hypothesis)\n"
     ]
    }
   ],
   "source": [
    "from scipy.stats import f_oneway\n",
    "group_a = [80, 85, 90, 92, 87, 83]\n",
    "group_b = [75, 78, 82, 79, 81, 84]\n",
    "f_statistic, p_value = f_oneway(group_a, group_b)\n",
    "alpha = 0.01\n",
    "if p_value < alpha:\n",
    "    print(\"The variances are significantly different (reject null hypothesis)\")\n",
    "else:\n",
    "    print(\"The variances are not significantly different (fail to reject null hypothesis)\")"
   ]
  }
 ],
 "metadata": {
  "kernelspec": {
   "display_name": "Python 3 (ipykernel)",
   "language": "python",
   "name": "python3"
  },
  "language_info": {
   "codemirror_mode": {
    "name": "ipython",
    "version": 3
   },
   "file_extension": ".py",
   "mimetype": "text/x-python",
   "name": "python",
   "nbconvert_exporter": "python",
   "pygments_lexer": "ipython3",
   "version": "3.10.8"
  }
 },
 "nbformat": 4,
 "nbformat_minor": 5
}
