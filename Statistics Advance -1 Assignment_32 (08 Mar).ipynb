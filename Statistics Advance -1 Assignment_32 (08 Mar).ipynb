{
 "cells": [
  {
   "cell_type": "markdown",
   "id": "75e5b83b-9817-4e8c-942c-560cd7e75a17",
   "metadata": {},
   "source": [
    "# Q1. What is the Probability density function?"
   ]
  },
  {
   "cell_type": "markdown",
   "id": "7828ff9e-25bb-4661-b604-43322f7922b0",
   "metadata": {},
   "source": [
    ">The Probability Density Function (PDF) is a function used in statistics to describe the relative likelihood of a random variable taking on a certain value. In other words, it is a function that describes the probability distribution of a continuous random variable.\n",
    "\n",
    "The PDF is denoted by f(x) and is defined as the derivative of the cumulative distribution function (CDF) of the random variable X.\n",
    "\n",
    "The PDF has several important properties, including:\n",
    "\n",
    "1. **Non-negativity**: f(x) is always non-negative, meaning that the probability of X taking on any value cannot be negative.\n",
    "2. **Normalization**: The area under the curve of f(x) must be equal to 1, since the probability of X taking on any value must be 1.\n",
    "3. **Integration**: The probability of X taking on a value within a certain range is given by the area under the curve of f(x) over that range.\n",
    "The PDF is an important concept in statistics and probability theory, as it allows us to model and understand the behavior of random variables in a variety of contexts."
   ]
  },
  {
   "cell_type": "markdown",
   "id": "1adfc97f-deac-4da2-b305-59f69952a2c3",
   "metadata": {},
   "source": [
    "# Q2. What are the types of Probability distribution?"
   ]
  },
  {
   "cell_type": "markdown",
   "id": "3da27437-a860-4411-be94-d84e736e0874",
   "metadata": {},
   "source": [
    "There are many types of probability distributions, but some of the most commonly used distributions are:\n",
    "\n",
    "1. **Normal Distribution**: The normal distribution is a bell-shaped, continuous distribution that is often used to model naturally occurring phenomena, such as height or weight. It is characterized by its ***mean (μ) and standard deviation (σ)***, which determine the shape and location of the distribution.\n",
    "\n",
    "2. **Binomial Distribution**: The binomial distribution is a discrete probability distribution that models the number of successes in a fixed number of independent trials. It is characterized by two parameters: the ***probability of success (p) and the number of trials (n)***.\n",
    "\n",
    "3. **Poisson Distribution**: The Poisson distribution is a discrete probability distribution that models the number of events that occur in a fixed interval of time or space. It is characterized by one parameter,***λ***, which represents the average number of events that occur in the interval.\n",
    "\n",
    "4. **Uniform Distribution**: The uniform distribution is a continuous probability distribution that models outcomes that are equally likely to occur within a given range. It is characterized by two parameters:***the minimum and maximum values of the range***."
   ]
  },
  {
   "cell_type": "markdown",
   "id": "e3292606-6573-4ec6-b48d-6c55fcc0bb97",
   "metadata": {},
   "source": [
    "# Q3. Write a Python function to calculate the probability density function of a normal distribution with given mean and standard deviation at a given point."
   ]
  },
  {
   "cell_type": "markdown",
   "id": "f4b8f623-e733-4a4d-98a2-cf82d1f1c856",
   "metadata": {},
   "source": [
    "import numpy as np\n",
    "import matplotlib.pyplot as plt\n",
    "\n",
    "# creating a series of data of range 1-50.\n",
    "x = np.linspace(1,50,200)\n",
    "\n",
    "# creating a Function.\n",
    "def normal_dist(x,mean,sd):\n",
    "    prob_density = (np.pi*sd) * np.exp(-0.5*((x-mean)/sd)**2)\n",
    "    return prob_density\n",
    "\n",
    "#Calculate mean and Standard deviation.\n",
    "mean = np.mean(x)\n",
    "sd = np.std(x)\n",
    " \n",
    "#Apply function to the data.\n",
    "pdf = normal_dist(x,mean,sd)\n",
    " \n",
    "#Plotting the Results\n",
    "plt.plot(x,pdf , color = 'red')\n",
    "plt.xlabel('Data points')\n",
    "plt.ylabel('Probability Density')"
   ]
  },
  {
   "cell_type": "markdown",
   "id": "7487b13c-a03a-4629-a540-6b7eb25795fe",
   "metadata": {},
   "source": [
    "# Q4. What are the properties of Binomial distribution? Give two examples of events where binomial distribution can be applied."
   ]
  },
  {
   "cell_type": "markdown",
   "id": "0c71fc4c-d5eb-4376-abea-42f0e0dbb8bc",
   "metadata": {},
   "source": [
    ">The binomial distribution is a discrete probability distribution that describes the number of successes in a fixed number of independent trials, where each trial has only two possible outcomes (success or failure), and the probability of success is constant for each trial.\n",
    "\n",
    "**Properties:**\n",
    "\n",
    "1. There are a fixed number of trials (n).\n",
    "2. Each trial has only two possible outcomes (success or failure).\n",
    "3. The trials are independent of each other.\n",
    "4. The probability of success (p) is constant for each trial.\n",
    "5. The probability of success and failure are complementary (q = 1 - p).\n",
    "6. The random variable X, which represents the number of successes in n trials, has a binomial distribution.\n",
    "\n",
    "**Examples:**\n",
    "\n",
    "1. ***Flipping a coin***: If you flip a fair coin (with an equal probability of heads or tails) 10 times, you can use the binomial distribution to calculate the probability of getting a certain number of heads (or tails) out of those 10 flips.\n",
    "\n",
    "2. ***Quality control***: A company produces light bulbs, and they want to know the probability that a batch of 100 bulbs will have more than 10 defective bulbs. They can use the binomial distribution to model the probability of each bulb being defective, and then use that to calculate the probability of getting more than 10 defective bulbs in the batch."
   ]
  },
  {
   "cell_type": "markdown",
   "id": "303b9cfb-6900-4a17-9c40-e2590ce2e63e",
   "metadata": {},
   "source": [
    "# Q5. Generate a random sample of size 1000 from a binomial distribution with probability of success 0.4 and plot a histogram of the results using matplotlib."
   ]
  },
  {
   "cell_type": "code",
   "execution_count": 14,
   "id": "f49fd02b-d7b2-4ce6-9e52-c9e7096e9495",
   "metadata": {},
   "outputs": [
    {
     "data": {
      "image/png": "[encoded data removed]",
      "text/plain": [
       "<Figure size 640x480 with 1 Axes>"
      ]
     },
     "metadata": {},
     "output_type": "display_data"
    }
   ],
   "source": [
    "import numpy as np \n",
    "import matplotlib.pyplot as plt \n",
    "sample_size=1000\n",
    "probability_success=0.4\n",
    "sample=np.random.binomial(1,probability_success,sample_size)\n",
    "plt.hist(sample,bins=2,rwidth=0.8,align='mid',color='skyblue')\n",
    "plt.xlabel('success')\n",
    "plt.ylabel('frequency')\n",
    "plt.title('binomial distribution : random sample')\n",
    "plt.xticks([0,1] , ['failure' , 'success'])\n",
    "plt.show()"
   ]
  },
  {
   "cell_type": "markdown",
   "id": "507e21f7-8054-4648-ab10-2c4eac5fa3c7",
   "metadata": {},
   "source": [
    "# Q6. Write a Python function to calculate the cumulative distribution function of a Poisson distribution with given mean at a given point."
   ]
  },
  {
   "cell_type": "markdown",
   "id": "61870024-b0a5-44b1-8424-3880ce3d1529",
   "metadata": {},
   "source": [
    "import math \n",
    "def poisson_cdf(x,mean):\n",
    "    cdf=0\n",
    "    for i in range (x+1):\n",
    "        cdf+=(mean**i)*math.exp(-mean)/math.factorial(i)\n",
    "    return cdf \n",
    "mean=3\n",
    "x=5\n",
    "cdf=poisson_cdf(x,mean)\n",
    "cdf"
   ]
  },
  {
   "cell_type": "markdown",
   "id": "201663d4-f2f9-4dc5-a502-a477ac78d48a",
   "metadata": {},
   "source": [
    "# Q7. How Binomial distribution different from Poisson distribution?"
   ]
  },
  {
   "cell_type": "markdown",
   "id": "64be03ef-3318-46b0-a9d5-f85c52276ca9",
   "metadata": {},
   "source": [
    "|                   |Binomial Distribution                      |Poisson Distribution                   |\n",
    "|-------------------|-------------------------------------------|---------------------------------------|\n",
    "|Assumptions        |Fixed number of trials                     |Random and rare events                 |\n",
    "|                   |Two possible outcomes (success/failure)    |occurring independently                |\n",
    "|                   |Constant probability of success\t        |Constant average rate of events        |\n",
    "|Nature of Events\t|Events with fixed number of trials         |Rare events occurring in continuous    |\n",
    "|                   |Success/failure outcomes\t                |time or space                          |\n",
    "|Parameters\t        |Number of trials (n)\t                    |Average rate of events (λ)             |\n",
    "|                   |Probability of success (p)\t                |                                       |\n",
    "|Shape\t            |Generally symmetric\t                    |Skewed to the right                    |\n",
    "|                   |Approaches normal distribution with\t    |Approaches normal distribution         |\n",
    "|                   |increasing trials and moderate success \t|with increasing average rate           |\n",
    "|                   |probability                                |                                       |"
   ]
  },
  {
   "cell_type": "markdown",
   "id": "1678be85-3f75-484d-ae46-cbe4c2ccf329",
   "metadata": {},
   "source": [
    "# Q8. Generate a random sample of size 1000 from a Poisson distribution with mean 5 and calculate the sample mean and variance."
   ]
  },
  {
   "cell_type": "code",
   "execution_count": 12,
   "id": "629aa95c-47eb-4aff-a090-458ad34e420c",
   "metadata": {},
   "outputs": [
    {
     "name": "stdout",
     "output_type": "stream",
     "text": [
      "5.082\n"
     ]
    }
   ],
   "source": [
    "import numpy as np \n",
    "mean=5\n",
    "sample_size=1000\n",
    "sample=np.random.poisson(mean,size=sample_size)\n",
    "sample_mean=np.mean(sample)\n",
    "sample_variance=np.var(sample)\n",
    "print(sample_mean)"
   ]
  },
  {
   "cell_type": "code",
   "execution_count": 13,
   "id": "a3bbad12-4d1c-4bb7-90af-c5c979246de9",
   "metadata": {},
   "outputs": [
    {
     "name": "stdout",
     "output_type": "stream",
     "text": [
      "5.083276\n"
     ]
    }
   ],
   "source": [
    "print(sample_variance)"
   ]
  },
  {
   "cell_type": "markdown",
   "id": "8dc146de-38a7-4bb0-ae52-c02d499eda90",
   "metadata": {},
   "source": [
    "# Q9. How mean and variance are related in Binomial distribution and Poisson distribution?"
   ]
  },
  {
   "cell_type": "markdown",
   "id": "2d6b756d-89ec-424d-b3a6-3aa5e13cf134",
   "metadata": {},
   "source": [
    "In a binomial distribution, the mean (or expected value) and variance are related by the following formula:\n",
    "\n",
    "> mean = np , variance = np(1-p)  \n",
    "  where n is the number of trials and p is the probability of success in each trial.\n",
    "\n",
    "In a Poisson distribution, the mean and variance are equal and are given by:\n",
    "\n",
    "> mean = variance = λ  \n",
    "  where λ is the rate parameter of the Poisson distribution.\n",
    "\n",
    "The relationship between mean and variance in these distributions reflects the nature of the underlying processes they model.\n",
    "\n",
    "In a ***binomial distribution***, the variance increases as the probability of success (p) moves away from 0.5, indicating that the spread of the distribution increases as the probability of success becomes more extreme.\n",
    "\n",
    "In a ***Poisson distribution***, the variance is equal to the mean because the distribution models events that occur randomly and independently with a constant rate, such as the number of arrivals in a fixed period of time. The constant rate λ determines both the mean and the variance, and the distribution has no underlying variability beyond what is explained by the rate parameter."
   ]
  },
  {
   "cell_type": "markdown",
   "id": "33506d49-70ef-4690-bfcd-cbb6bd132a95",
   "metadata": {},
   "source": [
    "# Q10. In normal distribution with respect to mean position, where does the least frequent data appear?"
   ]
  },
  {
   "cell_type": "markdown",
   "id": "6d1c7e19-6c2c-4fb7-b56b-633d5a9157f7",
   "metadata": {},
   "source": [
    "In a normal distribution, the least frequent data points are located in the tails of the distribution, which are the regions farthest away from the mean.\n",
    "The probability of observing a data point in the tails decreases rapidly as the distance from the mean increases."
   ]
  },
  {
   "cell_type": "code",
   "execution_count": null,
   "id": "3d4b864e-0159-43bd-9e2f-ec8b6c40bc43",
   "metadata": {},
   "outputs": [],
   "source": []
  }
 ],
 "metadata": {
  "kernelspec": {
   "display_name": "Python 3 (ipykernel)",
   "language": "python",
   "name": "python3"
  },
  "language_info": {
   "codemirror_mode": {
    "name": "ipython",
    "version": 3
   },
   "file_extension": ".py",
   "mimetype": "text/x-python",
   "name": "python",
   "nbconvert_exporter": "python",
   "pygments_lexer": "ipython3",
   "version": "3.10.8"
  }
 },
 "nbformat": 4,
 "nbformat_minor": 5
}
