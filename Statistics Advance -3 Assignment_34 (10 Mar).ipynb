{
 "cells": [
  {
   "cell_type": "markdown",
   "id": "8814fd53-6094-466e-a456-db75502bf029",
   "metadata": {},
   "source": [
    "# Q1: What is Estimation Statistics? Explain point estimate and interval estimate."
   ]
  },
  {
   "cell_type": "markdown",
   "id": "a0027941-c4eb-4572-945b-1cd93e7fea55",
   "metadata": {},
   "source": [
    "***Estimation statistics***  is a data analysis framework that uses a combination of effect sizes, confidence intervals, precision planning, and meta-analysis to plan experiments, analyze data and interpret results.\n",
    "\n",
    "There are 2 main types of estimates: point estimates and interval estimates.\n",
    "\n",
    "1.**Point Estimate**: A point estimate is a single value that is used to estimate a population parameter. It is obtained by using a sample statistic, such as the sample mean or sample proportion, to estimate the corresponding population parameter.\n",
    ">For example, if we want to estimate the mean height of all adults in the United States, we could take a sample of adults and calculate the sample mean. This sample mean would be a point estimate of the population mean.\n",
    "\n",
    "2.**Interval Estimate**: An interval estimate, also called a confidence interval, is a range of values that is likely to contain the true population parameter with a certain level of confidence. It is obtained by using a sample statistic, such as the sample mean or sample proportion, to calculate an interval of values that is likely to contain the true population parameter.\n",
    "> For example, if we want to estimate the mean height of all adults in the United States with 95% confidence, we could use a statistical software to calculate a confidence interval. The confidence interval would be a range of values that is likely to contain the true population mean with 95% confidence.\n",
    "\n",
    "\"Point estimates and interval estimates are both important tools for data analysis. Point estimates can be used to make decisions about the population, such as whether or not to reject the null hypothesis in a hypothesis test. Interval estimates can be used to quantify the uncertainty of a point estimate.\""
   ]
  },
  {
   "cell_type": "markdown",
   "id": "d26c8497-5377-4499-bbf8-f3408e3d15ee",
   "metadata": {
    "tags": []
   },
   "source": [
    "# Q2. Write a Python function to estimate the population mean using a sample mean and standard deviation."
   ]
  },
  {
   "cell_type": "code",
   "execution_count": 2,
   "id": "4160f368-f644-49a4-ba04-1dc56fc305b2",
   "metadata": {},
   "outputs": [
    {
     "name": "stdout",
     "output_type": "stream",
     "text": [
      "Population mean: 5.0\n"
     ]
    }
   ],
   "source": [
    "import math\n",
    "def population_mean(sample_mean,sample_std_dev,sample_size):\n",
    "    std_error = sample_std_dev / math.sqrt(sample_size)\n",
    "    z_value = 1.96 # assume 95% confidence level and use the corresponding z-value\n",
    "    margin_of_error = z_value * std_error\n",
    "    lower_bound = sample_mean - margin_of_error\n",
    "    upper_bound = sample_mean + margin_of_error\n",
    "    return ((lower_bound + upper_bound)/2)\n",
    "\n",
    "result = population_mean(5,8,20000)\n",
    "\n",
    "print(f\"Population mean: {result}\")"
   ]
  },
  {
   "cell_type": "markdown",
   "id": "8bc4e1b4-9803-4544-a681-9a7e6caf3cf6",
   "metadata": {
    "tags": []
   },
   "source": [
    "# Q3: What is Hypothesis testing? Why is it used? State the importance of Hypothesis testing."
   ]
  },
  {
   "cell_type": "markdown",
   "id": "c3f8bd4c-944a-4ab7-989e-4c9c98fb16ad",
   "metadata": {},
   "source": [
    "***Hypothesis testing*** is a statistical method used to make decisions or draw conclusions about a population based on a sample of data. It involves comparing a hypothesis or claim about a population parameter (such as a mean or proportion) with the data from a sample, in order to determine if the hypothesis is likely to be true.\n",
    "\n",
    "There are two types of hypothesis tests:\n",
    "\n",
    "1.**One-tailed tests**: These tests are used to determine whether there is a significant difference between two groups in one direction.\n",
    ">For example, you might want to test whether the mean height of men is significantly greater than the mean height of women.\n",
    "\n",
    "2.**Two-tailed tests**: These tests are used to determine whether there is a significant difference between two groups in either direction.\n",
    ">For example, you might want to test whether the mean height of men is significantly different from the mean height of women.\n",
    "\n",
    "***Hypothesis testing is used*** to test the validity of a theory or claim.\n",
    "\n",
    ">For example, in medical research, hypothesis testing can be used to determine if a new drug is effective in treating a disease by comparing its effects to a placebo. In business, hypothesis testing can be used to evaluate whether a new marketing strategy is effective in increasing sales.\n",
    "\n",
    "**The importance of hypothesis testing** lies in its ability to provide evidence for or against a theory or claim, and to help researchers make informed decisions based on data. It allows researchers to determine if an observed difference between groups or variables is statistically significant or simply due to chance, and to quantify the level of uncertainty in their findings. This can help researchers to draw conclusions that are based on evidence and minimize the risk of drawing incorrect or unsupported conclusions."
   ]
  },
  {
   "cell_type": "markdown",
   "id": "8ee0b8d2-0af1-40e6-b8d3-c90c272bea79",
   "metadata": {},
   "source": [
    "# Q4. Create a hypothesis that states whether the average weight of male college students is greater than the average weight of female college students."
   ]
  },
  {
   "cell_type": "markdown",
   "id": "a762f8f3-f6b7-46e0-9a8b-0d6f70f7d83c",
   "metadata": {},
   "source": [
    "The null hypothesis would be:\n",
    "\n",
    ">H0: The average weight of male college students is not greater than the average weight of female college students.\n",
    "\n",
    "The alternative hypothesis would be:\n",
    "\n",
    ">H1: The average weight of male college students is greater than the average weight of female college students.\n",
    "\n",
    "This hypothesis is a one-tailed test, because we are only interested in whether the average weight of male college students is greater than the average weight of female college students. We are not interested in whether the average weight of male college students is less than or equal to the average weight of female college students.\n",
    "\n",
    "To test this hypothesis, we would need to collect data on the weights of a sample of male and female college students.\n",
    "We would then use a statistical test to determine whether the difference in the sample means is statistically significant.\n",
    "If the difference is statistically significant, then we would reject the null hypothesis and conclude that the average weight of male college students is greater than the average weight of female college students."
   ]
  },
  {
   "cell_type": "markdown",
   "id": "a8b05c1a-c0dd-4933-b453-b589684cee17",
   "metadata": {
    "tags": []
   },
   "source": [
    "# Q5. Write a Python script to conduct a hypothesis test on the difference between two population means, given a sample from each population."
   ]
  },
  {
   "cell_type": "code",
   "execution_count": 10,
   "id": "d4101e6f-f310-40ec-9f05-b520532db7aa",
   "metadata": {},
   "outputs": [
    {
     "name": "stdout",
     "output_type": "stream",
     "text": [
      "t_statistics :  -6.521122367449245\n",
      "p_value :  5.684815800802486e-10\n",
      "Reject null hypothesis\n"
     ]
    }
   ],
   "source": [
    "import numpy as np\n",
    "from scipy.stats import ttest_ind\n",
    "\n",
    "# create two random samples \n",
    "sample1 = np.random.normal(20,4,100)\n",
    "sample2 = np.random.normal(24,4,100)\n",
    "\n",
    "# conduct t_test\n",
    "t_stat, p_val = ttest_ind(sample1,sample2)\n",
    "\n",
    "# print result\n",
    "print (\"t_statistics : \" , t_stat)\n",
    "print (\"p_value : \" , p_val)\n",
    "\n",
    "# check if p-value is significant at 5% level \n",
    "if p_val < 0.05:\n",
    "     print(\"Reject null hypothesis\")\n",
    "else:\n",
    "    print(\"Fail to reject null hypothesis\")"
   ]
  },
  {
   "cell_type": "markdown",
   "id": "d92ff62e-ac2c-4e04-96c0-cacde2b91bf0",
   "metadata": {},
   "source": [
    "# Q6: What is a null and alternative hypothesis? Give some examples."
   ]
  },
  {
   "cell_type": "markdown",
   "id": "cb387fbf-4b90-4af6-ad19-30b20fd9a1d0",
   "metadata": {},
   "source": [
    "The ***null hypothesis (H0)*** states that there is no significant difference between two populations or variables. It is often the default or conventional position and is tested against the alternative hypothesis. In other words, it is the claim that researchers aim to reject or fail to reject based on the evidence from the data.\n",
    "\n",
    "The ***alternative hypothesis (H1)*** is the complement of the null hypothesis and states that there is a significant difference between two populations or variables. It represents the claim that researchers seek to support or prove based on the evidence from the data.\n",
    "\n",
    "Examples:\n",
    "\n",
    ">Null hypothesis: The average IQ scores of two groups of students are equal.\n",
    "Alternative hypothesis: The average IQ score of one group of students is significantly different from the other group.\n",
    "\n",
    ">Null hypothesis: The new drug has no effect on curing a disease.\n",
    "Alternative hypothesis: The new drug is significantly more effective in curing the disease than the current drug."
   ]
  },
  {
   "cell_type": "markdown",
   "id": "b27652dd-a79e-4ae0-8139-2c7307fdfa63",
   "metadata": {},
   "source": [
    "# Q7: Write down the steps involved in hypothesis testing."
   ]
  },
  {
   "cell_type": "markdown",
   "id": "041c441a-a57d-458f-8e0e-3e9e829d73e1",
   "metadata": {},
   "source": [
    "Hypothesis testing involves several steps to systematically evaluate a research hypothesis. Here are the general steps involved in hypothesis testing:\n",
    "\n",
    "1.**State the null and alternative hypotheses:** Clearly define the null hypothesis (H0) and the alternative hypothesis (Ha or H1) based on the research question or problem being investigated.\n",
    "\n",
    "2.**Set the significance level:** Determine the desired level of significance (alpha) for the hypothesis test. Commonly used values are 0.05 (5%) or 0.01 (1%), representing the threshold for rejecting the null hypothesis.\n",
    "\n",
    "3.**Select the appropriate test statistic:** Choose a statistical test that is suitable for the hypothesis being tested and the type of data being analyzed. The choice of test depends on factors such as the research question, the nature of the data, and the assumptions associated with the test.\n",
    "\n",
    "4.**Collect and analyze the data:** Gather the relevant data according to the experimental design or sampling plan. Perform the necessary calculations or statistical analysis to obtain the test statistic and associated p-value.\n",
    "\n",
    "5.**Compare the p-value with the significance level:** Evaluate the statistical results by comparing the p-value (probability value) obtained from the analysis with the predetermined significance level. If the p-value is less than or equal to the significance level, reject the null hypothesis. If the p-value is greater than the significance level, fail to reject the null hypothesis.\n",
    "\n",
    "6.**Interpret the results and draw conclusions:** Based on the decision from step 5, interpret the results in the context of the research question. If the null hypothesis is rejected, provide evidence in support of the alternative hypothesis. If the null hypothesis is not rejected, conclude that there is insufficient evidence to support the alternative hypothesis.\n",
    "\n",
    "7.**Consider limitations and further analysis:** Discuss any limitations or assumptions associated with the hypothesis test. Consider the implications of the findings and whether further analysis or investigation is required.\n",
    "\n",
    "These steps provide a structured framework for conducting hypothesis tests, enabling researchers to make informed decisions based on statistical evidence."
   ]
  },
  {
   "cell_type": "markdown",
   "id": "968cc96b-3ee1-4142-9bd2-c29907e4a765",
   "metadata": {},
   "source": [
    "# Q8. Define p-value and explain its significance in hypothesis testing."
   ]
  },
  {
   "cell_type": "markdown",
   "id": "4e5c4024-bccb-46e3-a9a4-ce37f09d8c03",
   "metadata": {},
   "source": [
    "The ***p-value*** is a statistical measure that quantifies the evidence against the null hypothesis in hypothesis testing. It represents the probability of observing a test statistic as extreme as, or more extreme than, the one obtained from the sample data, assuming the null hypothesis is true.\n",
    "\n",
    "The ***significance of the p-value in hypothesis testing*** lies in its role in decision-making. It helps determine whether to reject or fail to reject the null hypothesis. The general guideline is to compare the p-value with a predetermined significance level (alpha).\n",
    "\n",
    "If the **p-value is less than or equal to the significance level (p ≤ alpha)**, it provides strong evidence against the null hypothesis. In this case, the **null hypothesis is rejected** in favor of the alternative hypothesis, indicating that the observed data is unlikely to occur by chance alone under the assumption that the null hypothesis is true.\n",
    "\n",
    "If the **p-value is greater than the significance level (p > alpha)**, it suggests that the observed data is reasonably likely to occur even if the null hypothesis is true. Therefore, there is **insufficient evidence to reject the null hypothesis**, and the alternative hypothesis is not supported.\n",
    "\n",
    "In practical terms, a smaller p-value indicates stronger evidence against the null hypothesis. The choice of the significance level (alpha) helps determine the threshold for considering the evidence as statistically significant. Commonly used significance levels are 0.05 (5%) or 0.01 (1%). However, it's important to note that the p-value itself does not provide information about the effect size or the practical significance of the findings; it solely indicates the strength of the evidence against the null hypothesis."
   ]
  },
  {
   "cell_type": "markdown",
   "id": "e5a0e222-cd7c-4e10-8cee-a4c440fe17ec",
   "metadata": {},
   "source": [
    "# Q9. Generate a Student's t-distribution plot using Python's matplotlib library, with the degrees of freedom parameter set to 10."
   ]
  },
  {
   "cell_type": "code",
   "execution_count": 2,
   "id": "8d24704a-963c-4683-8e81-e3b5cace6499",
   "metadata": {},
   "outputs": [
    {
     "data": {
      "image/png": "[encoded data removed]",
      "text/plain": [
       "<Figure size 640x480 with 1 Axes>"
      ]
     },
     "metadata": {},
     "output_type": "display_data"
    }
   ],
   "source": [
    "import numpy as np\n",
    "import matplotlib.pyplot as plt\n",
    "from scipy.stats import t\n",
    "\n",
    "df = 10\n",
    "\n",
    "x = np.linspace(-4,4,100)\n",
    "\n",
    "pdf = t.pdf(x,df)\n",
    "plt.plot(x,pdf,label='t-distribution df=(10)')\n",
    "plt.xlabel('x')\n",
    "plt.ylabel('probability density')\n",
    "plt.title(\"student's t-distribution df=(10)\")\n",
    "plt.legend()\n",
    "plt.grid(True)\n",
    "plt.show()"
   ]
  },
  {
   "cell_type": "markdown",
   "id": "213eaa93-f1ad-4df0-916c-7c8cb061b0e2",
   "metadata": {},
   "source": [
    "# Q10. Write a Python program to calculate the two-sample t-test for independent samples, given two random samples of equal size and a null hypothesis that the population means are equal."
   ]
  },
  {
   "cell_type": "code",
   "execution_count": 1,
   "id": "31c00f03-07d9-449a-bf37-d76a2d1df5da",
   "metadata": {},
   "outputs": [
    {
     "name": "stdout",
     "output_type": "stream",
     "text": [
      "t-statistic: -5.0\n",
      "p-value: 0.001052825793366539\n",
      "Reject the null hypothesis\n"
     ]
    }
   ],
   "source": [
    "import numpy as np \n",
    "from scipy import stats\n",
    "\n",
    "sample1=np.array([1,2,3,4,5])\n",
    "sample2=np.array([6,7,8,9,10])\n",
    "\n",
    "t_statistic , p_value=stats.ttest_ind(sample1,sample2)\n",
    "\n",
    "print('t-statistic:',t_statistic)\n",
    "print('p-value:',p_value)\n",
    "\n",
    "#compare the p-value to the significance level\n",
    "alpha = 0.05\n",
    "if p_value < alpha:\n",
    "    print(\"Reject the null hypothesis\")\n",
    "else:\n",
    "    print(\"Fail to reject the null hypothesis\")"
   ]
  },
  {
   "cell_type": "markdown",
   "id": "7734647a-ee25-4a96-9848-f4d63f214a9b",
   "metadata": {},
   "source": [
    "# Q11: What is Student’s t distribution? When to use the t-Distribution."
   ]
  },
  {
   "cell_type": "markdown",
   "id": "02abc6e5-5a04-4843-be57-e148342f57de",
   "metadata": {},
   "source": [
    "**Student's t distribution** is a probability distribution that is used in hypothesis testing when the sample size is small and the population standard deviation is unknown.\n",
    "It is similar to the standard normal distribution (z-distribution), but has heavier tails, which means it has more probability in the tails and less in the center compared to the standard normal distribution. The shape of the t-distribution depends on the sample size, with smaller sample sizes resulting in a more spread-out distribution.\n",
    "\n",
    "**The t-distribution is used** in situations where the population standard deviation is unknown and must be estimated from the sample data.\n",
    "It is also used when the sample size is small (typically less than 30) and the population is normally distributed. The t-distribution allows for greater uncertainty in the estimate of the population standard deviation due to the smaller sample size."
   ]
  },
  {
   "cell_type": "markdown",
   "id": "eaea55a6-e258-4429-aaa0-29cd4df1ba07",
   "metadata": {},
   "source": [
    "# Q12: What is t-statistic? State the formula for t-statistic."
   ]
  },
  {
   "cell_type": "markdown",
   "id": "c324596c-4f71-400b-8bae-7925135aed1b",
   "metadata": {},
   "source": [
    "The **t-statistic** is a measure of how many standard errors the sample mean is from the hypothesized population mean, under the assumption that the population variance is unknown and must be estimated from the sample data. It is used in hypothesis testing to determine whether the difference between the sample mean and the hypothesized population mean is statistically significant.\n",
    "\n",
    ">The formula for the t-statistic is:\n",
    "t = (x̄ - μ) / (s / √n)\n",
    "\n",
    ">where:\n",
    "x̄ is the sample mean\n",
    "μ is the hypothesized population mean\n",
    "s is the sample standard deviation\n",
    "n is the sample size\n",
    "√n is the square root of the sample size"
   ]
  },
  {
   "cell_type": "markdown",
   "id": "51813407-1b49-43c3-bd9a-c4762fbb9902",
   "metadata": {},
   "source": [
    "# Q13. A coffee shop owner wants to estimate the average daily revenue for their shop. They take a random sample of 50 days and find the sample mean revenue to be 500 dollar with a standard deviation of $50. Estimate the population mean revenue with a 95% confidence interval."
   ]
  },
  {
   "cell_type": "markdown",
   "id": "f2a5ce85-2e17-4df1-8030-8a138850987f",
   "metadata": {},
   "source": [
    "To estimate the population mean revenue with a 95% confidence interval, we can use the following formula:\n",
    "\n",
    ">Confidence Interval = sample mean ± margin of error\n",
    "\n",
    "where the margin of error is given by:\n",
    "\n",
    ">Margin of Error = z_value * standard error\n",
    "\n",
    " z_value = 1.96 # assume 95% confidence level and use the corresponding z-value\n",
    "\n",
    "The standard error is the standard deviation of the sample divided by the square root of the sample size:\n",
    "\n",
    ">Standard Error = standard deviation / sqrt(sample size)\n",
    "\n",
    "Substituting the values given in the problem statement, we get:\n",
    "\n",
    ">Standard Error = 50 / sqrt(50) = 7.07\n",
    ">Margin of Error = 1.96 * 7.07 = 13.85\n",
    "\n",
    "Therefore, the 95% confidence interval for the population mean revenue is:\n",
    "\n",
    ">500 ± 13.85, or (486.15, 513.85)\n",
    "\n",
    "We can be 95% confident that the true population mean revenue falls within this interval."
   ]
  },
  {
   "cell_type": "markdown",
   "id": "f69d377d-5fda-445d-931f-359080c09b3f",
   "metadata": {},
   "source": [
    "# Q14. A researcher hypothesizes that a new drug will decrease blood pressure by 10 mmHg. They conduct a clinical trial with 100 patients and find that the sample mean decrease in blood pressure is 8 mmHg with a standard deviation of 3 mmHg. Test the hypothesis with a significance level of 0.05."
   ]
  },
  {
   "attachments": {
    "2f75a16b-23d8-41ea-ab05-41c9e1e122d3.jpg": {
     "image/jpeg": "[encoded data removed]"
    }
   },
   "cell_type": "markdown",
   "id": "a1c83290-9ba6-42bc-86c2-5c017c3b9a3f",
   "metadata": {},
   "source": [
    "The following values are given in the question:\n",
    "\n",
    "> Population Mean = 10                                                                                                                                  \n",
    "> Sample Size = n = 100                                                                                                                                \n",
    "> Sample Mean = 8                                                                                                                                      \n",
    "> Standard Deviation = 3                                                                                                                                \n",
    "> Significance Level = 0.05                                                                                                                            \n",
    "> Confidence Interval = 0.95\n",
    "\n",
    "My null and alternate hypothesis are as follows:\n",
    "\n",
    "> Null Hypothesis = H0 => Population Mean = 10                                                                                                          \n",
    "> Alternate Hypothesis = H1 => Population Mean != 10\n",
    "\n",
    "From utilizing z-table i obgtained values for z-score:\n",
    "\n",
    ">z-score = ± 1.96\n",
    "\n",
    "Then I utilized the follwing z-test formula:\n",
    "\n",
    "![image.jpg](attachment:2f75a16b-23d8-41ea-ab05-41c9e1e122d3.jpg)\n",
    "\n",
    "I got the following value:\n",
    "\n",
    ">-0.66\n",
    "\n",
    "**As -0.66 lies outside the region ± 1.96, that means it lies in the rejection region.**                                                           **So my final conclusion was:**\n",
    "\n",
    "> **Reject the null hypothesis**"
   ]
  },
  {
   "cell_type": "markdown",
   "id": "f7c6c714-11b2-4d7e-957e-ed5ad38cf33c",
   "metadata": {},
   "source": [
    "# Q15. An electronics company produces a certain type of product with a mean weight of 5 pounds and a standard deviation of 0.5 pounds. A random sample of 25 products is taken, and the sample mean weight is found to be 4.8 pounds. Test the hypothesis that the true mean weight of the products is less than 5 pounds with a significance level of 0.01."
   ]
  },
  {
   "attachments": {
    "a4559dbc-7388-4522-914a-6d5623607ad0.jpg": {
     "image/jpeg": "[encoded data removed]"
    }
   },
   "cell_type": "markdown",
   "id": "77f4fc89-652a-418f-a305-7281f968364a",
   "metadata": {},
   "source": [
    "The following values are given in the question:\n",
    "\n",
    "> Population Mean = 5                                                                                                                                  \n",
    "> Sample Size = n = 25                                                                                                                                  \n",
    "> Sample Mean = 4.8                                                                                                                                    \n",
    "> Standard Deviation = 0.5                                                                                                                              \n",
    "> Significance Level = 0.01                                                                                                                            \n",
    "> Confidence Interval = 0.99\n",
    "\n",
    "My null and alternate hypothesis are as follows:\n",
    "\n",
    "> Null Hypothesis = H0 => Population Mean = 5                                                                                                          \n",
    "> Alternate Hypothesis = H1 => Population Mean < 5\n",
    "\n",
    "Then I utilized the follwing z-test formula:\n",
    "![image.jpg](attachment:a4559dbc-7388-4522-914a-6d5623607ad0.jpg)\n",
    "\n",
    "I got the following value:\n",
    "\n",
    "> -2\n",
    "\n",
    "From utilizing z-table i obtained values for z-score of -2:\n",
    "\n",
    "> z-score = 0.02275\n",
    "\n",
    "Which also becomes my p-value:\n",
    "\n",
    "> p-value = 0.02275\n",
    "\n",
    "Then i checked whether p-value < significance value\n",
    "\n",
    "> 0.02775 < 0.01                                                                                                                                        \n",
    "> **False**\n",
    "\n",
    "So my final conclusion was:\n",
    "\n",
    "> **Failed to reject null hypothesis**"
   ]
  },
  {
   "cell_type": "markdown",
   "id": "c88d36fa-983b-48fe-b89d-2a8cf1bd8e41",
   "metadata": {},
   "source": [
    "# Q16. Two groups of students are given different study materials to prepare for a test. The first group (n1 = 30) has a mean score of 80 with a standard deviation of 10, and the second group (n2 = 40) has a mean score of 75 with a standard deviation of 8. Test the hypothesis that the population means for the two groups are equal with a significance level of 0.01."
   ]
  },
  {
   "attachments": {
    "5ad5d1ac-d246-4070-8f05-eb7fa8fe3e5a.jpg": {
     "image/jpeg": "[encoded data removed]"
    }
   },
   "cell_type": "markdown",
   "id": "3dd17c53-113a-4cf1-ba26-2b65bdc85561",
   "metadata": {},
   "source": [
    "My null and alternate hypothesis are as follows:\n",
    "\n",
    "> Null Hypothesis = H0 => Population Mean of Group 1 = Population Mean of Group 2                                                                      \n",
    "> Alternate Hypothesis = H1 => Population Mean of Group 1 != Population Mean of Group 2\n",
    "\n",
    "Then I utilized the follwing two sample T-test formula:\n",
    "\n",
    "![T-test formula.jpg](attachment:5ad5d1ac-d246-4070-8f05-eb7fa8fe3e5a.jpg)\n",
    "\n",
    "I got the value of t as:\n",
    "\n",
    "> t = 2.37\n",
    "\n",
    "Then I utilized t-table to look for the value of t for the following parameters:\n",
    "\n",
    "> Degrees of Freedom = 68                                                                                                                              \n",
    "> Significance Value = 0.01\n",
    "\n",
    "I got the following value of t from the t-table:\n",
    "\n",
    "> t = ± 2.638\n",
    "\n",
    "**Since 2.37 lies in the region ±2.638 so, the final conclusion was:**\n",
    "\n",
    "> **Failed to reject null hypothesis**                                                                                                                  \n",
    "> **Population mean for two groups are equal**"
   ]
  },
  {
   "cell_type": "markdown",
   "id": "a1f6a327-c74f-4ab7-a0aa-30dbddd0069f",
   "metadata": {},
   "source": [
    "# Q17. A marketing company wants to estimate the average number of ads watched by viewers during a TV program. They take a random sample of 50 viewers and find that the sample mean is 4 with a standard deviation of 1.5. Estimate the population mean with a 99% confidence interval."
   ]
  },
  {
   "cell_type": "markdown",
   "id": "b6e5e951-d242-4ec2-8943-c9e874c65889",
   "metadata": {},
   "source": [
    "To estimate the population mean with a 99% confidence interval, we can use the following formula:\n",
    "\n",
    "> CI = X̄ ± z*(σ/√n)\n",
    "\n",
    "Where:\n",
    "\n",
    "> X̄ = sample mean (4)                                                                                                                                  \n",
    "> z = z-score corresponding to the confidence level (99%)                                                                                              \n",
    "> σ = population standard deviation (1.5)                                                                                                              \n",
    "> n = sample size (50)\n",
    "\n",
    "To find the z-score, we can use a standard normal distribution table. For a 99% confidence level, the z-score is\n",
    "\n",
    "> z-score = 2.576.\n",
    "\n",
    "Plugging in the values, we get:\n",
    "\n",
    "> CI = 4 ± 2.576*(1.5/√50)                                                                                                                              \n",
    "> CI = 4 ± 0.665\n",
    "\n",
    "**Therefore, the 99% confidence interval for the population mean of the number of ads watched by viewers during a TV program is (3.335, 4.665)**.\n",
    "   \n",
    "   We are 99% confident that the true population mean falls within this interval."
   ]
  }
 ],
 "metadata": {
  "kernelspec": {
   "display_name": "Python 3 (ipykernel)",
   "language": "python",
   "name": "python3"
  },
  "language_info": {
   "codemirror_mode": {
    "name": "ipython",
    "version": 3
   },
   "file_extension": ".py",
   "mimetype": "text/x-python",
   "name": "python",
   "nbconvert_exporter": "python",
   "pygments_lexer": "ipython3",
   "version": "3.10.8"
  }
 },
 "nbformat": 4,
 "nbformat_minor": 5
}
